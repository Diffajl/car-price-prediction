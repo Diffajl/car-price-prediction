{
 "cells": [
  {
   "cell_type": "markdown",
   "metadata": {},
   "source": [
    "# Car Price Prediction"
   ]
  },
  {
   "cell_type": "markdown",
   "metadata": {},
   "source": [
    "### 1. Import Module"
   ]
  },
  {
   "cell_type": "code",
   "execution_count": 18,
   "metadata": {},
   "outputs": [],
   "source": [
    "import pandas as pd\n",
    "import numpy as np\n",
    "import matplotlib.pyplot as plt\n",
    "from sklearn.model_selection import train_test_split\n",
    "from sklearn.preprocessing import LabelEncoder, StandardScaler\n",
    "from sklearn.linear_model import LinearRegression\n",
    "from sklearn.tree import DecisionTreeRegressor\n",
    "from sklearn.ensemble import RandomForestRegressor\n",
    "from sklearn.metrics import mean_squared_error, r2_score"
   ]
  },
  {
   "cell_type": "markdown",
   "metadata": {},
   "source": [
    "### 2. Cleaning Data"
   ]
  },
  {
   "cell_type": "code",
   "execution_count": 4,
   "metadata": {},
   "outputs": [
    {
     "data": {
      "text/html": [
       "<div>\n",
       "<style scoped>\n",
       "    .dataframe tbody tr th:only-of-type {\n",
       "        vertical-align: middle;\n",
       "    }\n",
       "\n",
       "    .dataframe tbody tr th {\n",
       "        vertical-align: top;\n",
       "    }\n",
       "\n",
       "    .dataframe thead th {\n",
       "        text-align: right;\n",
       "    }\n",
       "</style>\n",
       "<table border=\"1\" class=\"dataframe\">\n",
       "  <thead>\n",
       "    <tr style=\"text-align: right;\">\n",
       "      <th></th>\n",
       "      <th>Brand</th>\n",
       "      <th>Model</th>\n",
       "      <th>Year</th>\n",
       "      <th>Engine_Size</th>\n",
       "      <th>Fuel_Type</th>\n",
       "      <th>Transmission</th>\n",
       "      <th>Mileage</th>\n",
       "      <th>Doors</th>\n",
       "      <th>Owner_Count</th>\n",
       "      <th>Price</th>\n",
       "    </tr>\n",
       "  </thead>\n",
       "  <tbody>\n",
       "    <tr>\n",
       "      <th>0</th>\n",
       "      <td>Kia</td>\n",
       "      <td>Rio</td>\n",
       "      <td>2020</td>\n",
       "      <td>4.2</td>\n",
       "      <td>Diesel</td>\n",
       "      <td>Manual</td>\n",
       "      <td>289944</td>\n",
       "      <td>3</td>\n",
       "      <td>5</td>\n",
       "      <td>8501</td>\n",
       "    </tr>\n",
       "    <tr>\n",
       "      <th>1</th>\n",
       "      <td>Chevrolet</td>\n",
       "      <td>Malibu</td>\n",
       "      <td>2012</td>\n",
       "      <td>2.0</td>\n",
       "      <td>Hybrid</td>\n",
       "      <td>Automatic</td>\n",
       "      <td>5356</td>\n",
       "      <td>2</td>\n",
       "      <td>3</td>\n",
       "      <td>12092</td>\n",
       "    </tr>\n",
       "    <tr>\n",
       "      <th>2</th>\n",
       "      <td>Mercedes</td>\n",
       "      <td>GLA</td>\n",
       "      <td>2020</td>\n",
       "      <td>4.2</td>\n",
       "      <td>Diesel</td>\n",
       "      <td>Automatic</td>\n",
       "      <td>231440</td>\n",
       "      <td>4</td>\n",
       "      <td>2</td>\n",
       "      <td>11171</td>\n",
       "    </tr>\n",
       "    <tr>\n",
       "      <th>3</th>\n",
       "      <td>Audi</td>\n",
       "      <td>Q5</td>\n",
       "      <td>2023</td>\n",
       "      <td>2.0</td>\n",
       "      <td>Electric</td>\n",
       "      <td>Manual</td>\n",
       "      <td>160971</td>\n",
       "      <td>2</td>\n",
       "      <td>1</td>\n",
       "      <td>11780</td>\n",
       "    </tr>\n",
       "    <tr>\n",
       "      <th>4</th>\n",
       "      <td>Volkswagen</td>\n",
       "      <td>Golf</td>\n",
       "      <td>2003</td>\n",
       "      <td>2.6</td>\n",
       "      <td>Hybrid</td>\n",
       "      <td>Semi-Automatic</td>\n",
       "      <td>286618</td>\n",
       "      <td>3</td>\n",
       "      <td>3</td>\n",
       "      <td>2867</td>\n",
       "    </tr>\n",
       "    <tr>\n",
       "      <th>5</th>\n",
       "      <td>Toyota</td>\n",
       "      <td>Camry</td>\n",
       "      <td>2007</td>\n",
       "      <td>2.7</td>\n",
       "      <td>Petrol</td>\n",
       "      <td>Automatic</td>\n",
       "      <td>157889</td>\n",
       "      <td>4</td>\n",
       "      <td>4</td>\n",
       "      <td>7242</td>\n",
       "    </tr>\n",
       "    <tr>\n",
       "      <th>6</th>\n",
       "      <td>Honda</td>\n",
       "      <td>Civic</td>\n",
       "      <td>2010</td>\n",
       "      <td>3.4</td>\n",
       "      <td>Electric</td>\n",
       "      <td>Automatic</td>\n",
       "      <td>139584</td>\n",
       "      <td>3</td>\n",
       "      <td>1</td>\n",
       "      <td>11208</td>\n",
       "    </tr>\n",
       "    <tr>\n",
       "      <th>7</th>\n",
       "      <td>Kia</td>\n",
       "      <td>Sportage</td>\n",
       "      <td>2001</td>\n",
       "      <td>4.7</td>\n",
       "      <td>Electric</td>\n",
       "      <td>Semi-Automatic</td>\n",
       "      <td>157495</td>\n",
       "      <td>2</td>\n",
       "      <td>2</td>\n",
       "      <td>7950</td>\n",
       "    </tr>\n",
       "    <tr>\n",
       "      <th>8</th>\n",
       "      <td>Kia</td>\n",
       "      <td>Sportage</td>\n",
       "      <td>2014</td>\n",
       "      <td>2.6</td>\n",
       "      <td>Hybrid</td>\n",
       "      <td>Manual</td>\n",
       "      <td>98700</td>\n",
       "      <td>3</td>\n",
       "      <td>4</td>\n",
       "      <td>9926</td>\n",
       "    </tr>\n",
       "    <tr>\n",
       "      <th>9</th>\n",
       "      <td>Toyota</td>\n",
       "      <td>RAV4</td>\n",
       "      <td>2005</td>\n",
       "      <td>3.1</td>\n",
       "      <td>Petrol</td>\n",
       "      <td>Manual</td>\n",
       "      <td>107724</td>\n",
       "      <td>2</td>\n",
       "      <td>5</td>\n",
       "      <td>6545</td>\n",
       "    </tr>\n",
       "  </tbody>\n",
       "</table>\n",
       "</div>"
      ],
      "text/plain": [
       "        Brand     Model  Year  Engine_Size Fuel_Type    Transmission  Mileage  \\\n",
       "0         Kia       Rio  2020          4.2    Diesel          Manual   289944   \n",
       "1   Chevrolet    Malibu  2012          2.0    Hybrid       Automatic     5356   \n",
       "2    Mercedes       GLA  2020          4.2    Diesel       Automatic   231440   \n",
       "3        Audi        Q5  2023          2.0  Electric          Manual   160971   \n",
       "4  Volkswagen      Golf  2003          2.6    Hybrid  Semi-Automatic   286618   \n",
       "5      Toyota     Camry  2007          2.7    Petrol       Automatic   157889   \n",
       "6       Honda     Civic  2010          3.4  Electric       Automatic   139584   \n",
       "7         Kia  Sportage  2001          4.7  Electric  Semi-Automatic   157495   \n",
       "8         Kia  Sportage  2014          2.6    Hybrid          Manual    98700   \n",
       "9      Toyota      RAV4  2005          3.1    Petrol          Manual   107724   \n",
       "\n",
       "   Doors  Owner_Count  Price  \n",
       "0      3            5   8501  \n",
       "1      2            3  12092  \n",
       "2      4            2  11171  \n",
       "3      2            1  11780  \n",
       "4      3            3   2867  \n",
       "5      4            4   7242  \n",
       "6      3            1  11208  \n",
       "7      2            2   7950  \n",
       "8      3            4   9926  \n",
       "9      2            5   6545  "
      ]
     },
     "execution_count": 4,
     "metadata": {},
     "output_type": "execute_result"
    }
   ],
   "source": [
    "df = pd.read_csv(\"../../datasets/car_price_dataset.csv\")\n",
    "df.head(10)"
   ]
  },
  {
   "cell_type": "code",
   "execution_count": 12,
   "metadata": {},
   "outputs": [
    {
     "data": {
      "text/plain": [
       "np.int64(0)"
      ]
     },
     "execution_count": 12,
     "metadata": {},
     "output_type": "execute_result"
    }
   ],
   "source": [
    "df.duplicated().sum()"
   ]
  },
  {
   "cell_type": "code",
   "execution_count": 13,
   "metadata": {},
   "outputs": [
    {
     "data": {
      "text/plain": [
       "Brand           0\n",
       "Model           0\n",
       "Year            0\n",
       "Engine_Size     0\n",
       "Fuel_Type       0\n",
       "Transmission    0\n",
       "Mileage         0\n",
       "Doors           0\n",
       "Owner_Count     0\n",
       "Price           0\n",
       "dtype: int64"
      ]
     },
     "execution_count": 13,
     "metadata": {},
     "output_type": "execute_result"
    }
   ],
   "source": [
    "df.isnull().sum()"
   ]
  },
  {
   "cell_type": "markdown",
   "metadata": {},
   "source": [
    "### 3. EDA"
   ]
  },
  {
   "cell_type": "code",
   "execution_count": 5,
   "metadata": {},
   "outputs": [
    {
     "data": {
      "text/plain": [
       "(10000, 10)"
      ]
     },
     "execution_count": 5,
     "metadata": {},
     "output_type": "execute_result"
    }
   ],
   "source": [
    "df.shape"
   ]
  },
  {
   "cell_type": "code",
   "execution_count": 6,
   "metadata": {},
   "outputs": [
    {
     "data": {
      "text/plain": [
       "Index(['Brand', 'Model', 'Year', 'Engine_Size', 'Fuel_Type', 'Transmission',\n",
       "       'Mileage', 'Doors', 'Owner_Count', 'Price'],\n",
       "      dtype='object')"
      ]
     },
     "execution_count": 6,
     "metadata": {},
     "output_type": "execute_result"
    }
   ],
   "source": [
    "df.columns"
   ]
  },
  {
   "cell_type": "code",
   "execution_count": 7,
   "metadata": {},
   "outputs": [
    {
     "data": {
      "text/plain": [
       "Brand            object\n",
       "Model            object\n",
       "Year              int64\n",
       "Engine_Size     float64\n",
       "Fuel_Type        object\n",
       "Transmission     object\n",
       "Mileage           int64\n",
       "Doors             int64\n",
       "Owner_Count       int64\n",
       "Price             int64\n",
       "dtype: object"
      ]
     },
     "execution_count": 7,
     "metadata": {},
     "output_type": "execute_result"
    }
   ],
   "source": [
    "df.dtypes"
   ]
  },
  {
   "cell_type": "code",
   "execution_count": 8,
   "metadata": {},
   "outputs": [
    {
     "name": "stdout",
     "output_type": "stream",
     "text": [
      "<class 'pandas.core.frame.DataFrame'>\n",
      "RangeIndex: 10000 entries, 0 to 9999\n",
      "Data columns (total 10 columns):\n",
      " #   Column        Non-Null Count  Dtype  \n",
      "---  ------        --------------  -----  \n",
      " 0   Brand         10000 non-null  object \n",
      " 1   Model         10000 non-null  object \n",
      " 2   Year          10000 non-null  int64  \n",
      " 3   Engine_Size   10000 non-null  float64\n",
      " 4   Fuel_Type     10000 non-null  object \n",
      " 5   Transmission  10000 non-null  object \n",
      " 6   Mileage       10000 non-null  int64  \n",
      " 7   Doors         10000 non-null  int64  \n",
      " 8   Owner_Count   10000 non-null  int64  \n",
      " 9   Price         10000 non-null  int64  \n",
      "dtypes: float64(1), int64(5), object(4)\n",
      "memory usage: 781.4+ KB\n"
     ]
    }
   ],
   "source": [
    "df.info()"
   ]
  },
  {
   "cell_type": "code",
   "execution_count": 9,
   "metadata": {},
   "outputs": [
    {
     "data": {
      "text/html": [
       "<div>\n",
       "<style scoped>\n",
       "    .dataframe tbody tr th:only-of-type {\n",
       "        vertical-align: middle;\n",
       "    }\n",
       "\n",
       "    .dataframe tbody tr th {\n",
       "        vertical-align: top;\n",
       "    }\n",
       "\n",
       "    .dataframe thead th {\n",
       "        text-align: right;\n",
       "    }\n",
       "</style>\n",
       "<table border=\"1\" class=\"dataframe\">\n",
       "  <thead>\n",
       "    <tr style=\"text-align: right;\">\n",
       "      <th></th>\n",
       "      <th>Year</th>\n",
       "      <th>Engine_Size</th>\n",
       "      <th>Mileage</th>\n",
       "      <th>Doors</th>\n",
       "      <th>Owner_Count</th>\n",
       "      <th>Price</th>\n",
       "    </tr>\n",
       "  </thead>\n",
       "  <tbody>\n",
       "    <tr>\n",
       "      <th>count</th>\n",
       "      <td>10000.000000</td>\n",
       "      <td>10000.000000</td>\n",
       "      <td>10000.000000</td>\n",
       "      <td>10000.000000</td>\n",
       "      <td>10000.000000</td>\n",
       "      <td>10000.00000</td>\n",
       "    </tr>\n",
       "    <tr>\n",
       "      <th>mean</th>\n",
       "      <td>2011.543700</td>\n",
       "      <td>3.000560</td>\n",
       "      <td>149239.111800</td>\n",
       "      <td>3.497100</td>\n",
       "      <td>2.991100</td>\n",
       "      <td>8852.96440</td>\n",
       "    </tr>\n",
       "    <tr>\n",
       "      <th>std</th>\n",
       "      <td>6.897699</td>\n",
       "      <td>1.149324</td>\n",
       "      <td>86322.348957</td>\n",
       "      <td>1.110097</td>\n",
       "      <td>1.422682</td>\n",
       "      <td>3112.59681</td>\n",
       "    </tr>\n",
       "    <tr>\n",
       "      <th>min</th>\n",
       "      <td>2000.000000</td>\n",
       "      <td>1.000000</td>\n",
       "      <td>25.000000</td>\n",
       "      <td>2.000000</td>\n",
       "      <td>1.000000</td>\n",
       "      <td>2000.00000</td>\n",
       "    </tr>\n",
       "    <tr>\n",
       "      <th>25%</th>\n",
       "      <td>2006.000000</td>\n",
       "      <td>2.000000</td>\n",
       "      <td>74649.250000</td>\n",
       "      <td>3.000000</td>\n",
       "      <td>2.000000</td>\n",
       "      <td>6646.00000</td>\n",
       "    </tr>\n",
       "    <tr>\n",
       "      <th>50%</th>\n",
       "      <td>2012.000000</td>\n",
       "      <td>3.000000</td>\n",
       "      <td>149587.000000</td>\n",
       "      <td>3.000000</td>\n",
       "      <td>3.000000</td>\n",
       "      <td>8858.50000</td>\n",
       "    </tr>\n",
       "    <tr>\n",
       "      <th>75%</th>\n",
       "      <td>2017.000000</td>\n",
       "      <td>4.000000</td>\n",
       "      <td>223577.500000</td>\n",
       "      <td>4.000000</td>\n",
       "      <td>4.000000</td>\n",
       "      <td>11086.50000</td>\n",
       "    </tr>\n",
       "    <tr>\n",
       "      <th>max</th>\n",
       "      <td>2023.000000</td>\n",
       "      <td>5.000000</td>\n",
       "      <td>299947.000000</td>\n",
       "      <td>5.000000</td>\n",
       "      <td>5.000000</td>\n",
       "      <td>18301.00000</td>\n",
       "    </tr>\n",
       "  </tbody>\n",
       "</table>\n",
       "</div>"
      ],
      "text/plain": [
       "               Year   Engine_Size        Mileage         Doors   Owner_Count  \\\n",
       "count  10000.000000  10000.000000   10000.000000  10000.000000  10000.000000   \n",
       "mean    2011.543700      3.000560  149239.111800      3.497100      2.991100   \n",
       "std        6.897699      1.149324   86322.348957      1.110097      1.422682   \n",
       "min     2000.000000      1.000000      25.000000      2.000000      1.000000   \n",
       "25%     2006.000000      2.000000   74649.250000      3.000000      2.000000   \n",
       "50%     2012.000000      3.000000  149587.000000      3.000000      3.000000   \n",
       "75%     2017.000000      4.000000  223577.500000      4.000000      4.000000   \n",
       "max     2023.000000      5.000000  299947.000000      5.000000      5.000000   \n",
       "\n",
       "             Price  \n",
       "count  10000.00000  \n",
       "mean    8852.96440  \n",
       "std     3112.59681  \n",
       "min     2000.00000  \n",
       "25%     6646.00000  \n",
       "50%     8858.50000  \n",
       "75%    11086.50000  \n",
       "max    18301.00000  "
      ]
     },
     "execution_count": 9,
     "metadata": {},
     "output_type": "execute_result"
    }
   ],
   "source": [
    "df.describe()"
   ]
  },
  {
   "cell_type": "markdown",
   "metadata": {},
   "source": [
    "### 4. Data Preprocessing"
   ]
  },
  {
   "cell_type": "code",
   "execution_count": 17,
   "metadata": {},
   "outputs": [],
   "source": [
    "le = LabelEncoder()\n",
    "sc = StandardScaler()\n",
    "df['Brand'] = le.fit_transform(df['Brand'])\n",
    "df['Model'] = le.fit_transform(df['Model'])\n",
    "df['Fuel_Type'] = le.fit_transform(df['Fuel_Type'])\n",
    "df['Transmission'] = le.fit_transform(df['Transmission'])\n",
    "df['Year'] = sc.fit_transform(df[['Year']])\n",
    "df['Mileage'] = sc.fit_transform(df[['Mileage']])\n",
    "df['Price'] = sc.fit_transform(df[['Price']])"
   ]
  },
  {
   "cell_type": "code",
   "execution_count": 19,
   "metadata": {},
   "outputs": [],
   "source": [
    "X = np.array(df.drop(columns=['Price']))\n",
    "y = np.array(df['Price'])\n",
    "X_train, X_test, y_train, y_test = train_test_split(X, y, test_size=0.3)"
   ]
  },
  {
   "cell_type": "markdown",
   "metadata": {},
   "source": [
    "### 4. Model Training"
   ]
  },
  {
   "cell_type": "code",
   "execution_count": 20,
   "metadata": {},
   "outputs": [],
   "source": [
    "lr = LinearRegression().fit(X_train, y_train)\n",
    "dt = DecisionTreeRegressor().fit(X_train, y_train)\n",
    "rf = RandomForestRegressor().fit(X_train, y_train)"
   ]
  },
  {
   "cell_type": "markdown",
   "metadata": {},
   "source": [
    "### 5. Model Evaluating"
   ]
  },
  {
   "cell_type": "code",
   "execution_count": 32,
   "metadata": {},
   "outputs": [
    {
     "name": "stdout",
     "output_type": "stream",
     "text": [
      "MSE LINEAR REGRESSION: 0.082\n",
      "MSE Decision Tree: 0.069\n",
      "MSE Random Forest: 0.026\n",
      "R2 Score Linear Regression: 91.8 %\n",
      "R2 Decision Tree: 93.0 %\n",
      "R2 Random Forest: 97.0 %\n"
     ]
    }
   ],
   "source": [
    "y_pred1 = lr.predict(X_test)\n",
    "y_pred2 = dt.predict(X_test)\n",
    "y_pred3 = rf.predict(X_test)\n",
    "\n",
    "mse1 = mean_squared_error(y_test, y_pred1)\n",
    "mse2 = mean_squared_error(y_test, y_pred2)\n",
    "mse3 = mean_squared_error(y_test, y_pred3)\n",
    "r2_1 = r2_score(y_test, y_pred1)\n",
    "r2_2 = r2_score(y_test, y_pred2)\n",
    "r2_3 = r2_score(y_test, y_pred3)\n",
    "\n",
    "print(f\"MSE LINEAR REGRESSION: {np.around(mse1, 3)}\")\n",
    "print(f\"MSE Decision Tree: {np.around(mse2, 3)}\")\n",
    "print(f\"MSE Random Forest: {np.around(mse3, 3)}\")\n",
    "print(f\"R2 Score Linear Regression: {np.around(r2_1, 3) * 100} %\")\n",
    "print(f\"R2 Decision Tree: {np.around(r2_2, 2) * 100} %\")\n",
    "print(f\"R2 Random Forest: {np.around(r2_3, 2) * 100} %\")"
   ]
  },
  {
   "cell_type": "code",
   "execution_count": 36,
   "metadata": {},
   "outputs": [
    {
     "data": {
      "text/html": [
       "<div>\n",
       "<style scoped>\n",
       "    .dataframe tbody tr th:only-of-type {\n",
       "        vertical-align: middle;\n",
       "    }\n",
       "\n",
       "    .dataframe tbody tr th {\n",
       "        vertical-align: top;\n",
       "    }\n",
       "\n",
       "    .dataframe thead th {\n",
       "        text-align: right;\n",
       "    }\n",
       "</style>\n",
       "<table border=\"1\" class=\"dataframe\">\n",
       "  <thead>\n",
       "    <tr style=\"text-align: right;\">\n",
       "      <th></th>\n",
       "      <th>Brand</th>\n",
       "      <th>Model</th>\n",
       "      <th>Year</th>\n",
       "      <th>Engine_Size</th>\n",
       "      <th>Fuel_Type</th>\n",
       "      <th>Transmission</th>\n",
       "      <th>Mileage</th>\n",
       "      <th>Doors</th>\n",
       "      <th>Owner_Count</th>\n",
       "      <th>Price</th>\n",
       "    </tr>\n",
       "  </thead>\n",
       "  <tbody>\n",
       "    <tr>\n",
       "      <th>0</th>\n",
       "      <td>6</td>\n",
       "      <td>24</td>\n",
       "      <td>1.226021</td>\n",
       "      <td>4.2</td>\n",
       "      <td>0</td>\n",
       "      <td>1</td>\n",
       "      <td>1.630075</td>\n",
       "      <td>3</td>\n",
       "      <td>5</td>\n",
       "      <td>-0.113083</td>\n",
       "    </tr>\n",
       "    <tr>\n",
       "      <th>1</th>\n",
       "      <td>2</td>\n",
       "      <td>19</td>\n",
       "      <td>0.066156</td>\n",
       "      <td>2.0</td>\n",
       "      <td>2</td>\n",
       "      <td>0</td>\n",
       "      <td>-1.666895</td>\n",
       "      <td>2</td>\n",
       "      <td>3</td>\n",
       "      <td>1.040674</td>\n",
       "    </tr>\n",
       "    <tr>\n",
       "      <th>2</th>\n",
       "      <td>7</td>\n",
       "      <td>16</td>\n",
       "      <td>1.226021</td>\n",
       "      <td>4.2</td>\n",
       "      <td>0</td>\n",
       "      <td>0</td>\n",
       "      <td>0.952303</td>\n",
       "      <td>4</td>\n",
       "      <td>2</td>\n",
       "      <td>0.744764</td>\n",
       "    </tr>\n",
       "    <tr>\n",
       "      <th>3</th>\n",
       "      <td>0</td>\n",
       "      <td>22</td>\n",
       "      <td>1.660970</td>\n",
       "      <td>2.0</td>\n",
       "      <td>1</td>\n",
       "      <td>1</td>\n",
       "      <td>0.135915</td>\n",
       "      <td>2</td>\n",
       "      <td>1</td>\n",
       "      <td>0.940431</td>\n",
       "    </tr>\n",
       "    <tr>\n",
       "      <th>4</th>\n",
       "      <td>9</td>\n",
       "      <td>17</td>\n",
       "      <td>-1.238692</td>\n",
       "      <td>2.6</td>\n",
       "      <td>2</td>\n",
       "      <td>2</td>\n",
       "      <td>1.591543</td>\n",
       "      <td>3</td>\n",
       "      <td>3</td>\n",
       "      <td>-1.923238</td>\n",
       "    </tr>\n",
       "    <tr>\n",
       "      <th>5</th>\n",
       "      <td>8</td>\n",
       "      <td>7</td>\n",
       "      <td>-0.658760</td>\n",
       "      <td>2.7</td>\n",
       "      <td>3</td>\n",
       "      <td>0</td>\n",
       "      <td>0.100210</td>\n",
       "      <td>4</td>\n",
       "      <td>4</td>\n",
       "      <td>-0.517589</td>\n",
       "    </tr>\n",
       "    <tr>\n",
       "      <th>6</th>\n",
       "      <td>4</td>\n",
       "      <td>8</td>\n",
       "      <td>-0.223810</td>\n",
       "      <td>3.4</td>\n",
       "      <td>1</td>\n",
       "      <td>0</td>\n",
       "      <td>-0.111855</td>\n",
       "      <td>3</td>\n",
       "      <td>1</td>\n",
       "      <td>0.756652</td>\n",
       "    </tr>\n",
       "    <tr>\n",
       "      <th>7</th>\n",
       "      <td>6</td>\n",
       "      <td>26</td>\n",
       "      <td>-1.528659</td>\n",
       "      <td>4.7</td>\n",
       "      <td>1</td>\n",
       "      <td>2</td>\n",
       "      <td>0.095645</td>\n",
       "      <td>2</td>\n",
       "      <td>2</td>\n",
       "      <td>-0.290115</td>\n",
       "    </tr>\n",
       "    <tr>\n",
       "      <th>8</th>\n",
       "      <td>6</td>\n",
       "      <td>26</td>\n",
       "      <td>0.356122</td>\n",
       "      <td>2.6</td>\n",
       "      <td>2</td>\n",
       "      <td>1</td>\n",
       "      <td>-0.585499</td>\n",
       "      <td>3</td>\n",
       "      <td>4</td>\n",
       "      <td>0.344757</td>\n",
       "    </tr>\n",
       "    <tr>\n",
       "      <th>9</th>\n",
       "      <td>8</td>\n",
       "      <td>23</td>\n",
       "      <td>-0.948726</td>\n",
       "      <td>3.1</td>\n",
       "      <td>3</td>\n",
       "      <td>1</td>\n",
       "      <td>-0.480955</td>\n",
       "      <td>2</td>\n",
       "      <td>5</td>\n",
       "      <td>-0.741529</td>\n",
       "    </tr>\n",
       "  </tbody>\n",
       "</table>\n",
       "</div>"
      ],
      "text/plain": [
       "   Brand  Model      Year  Engine_Size  Fuel_Type  Transmission   Mileage  \\\n",
       "0      6     24  1.226021          4.2          0             1  1.630075   \n",
       "1      2     19  0.066156          2.0          2             0 -1.666895   \n",
       "2      7     16  1.226021          4.2          0             0  0.952303   \n",
       "3      0     22  1.660970          2.0          1             1  0.135915   \n",
       "4      9     17 -1.238692          2.6          2             2  1.591543   \n",
       "5      8      7 -0.658760          2.7          3             0  0.100210   \n",
       "6      4      8 -0.223810          3.4          1             0 -0.111855   \n",
       "7      6     26 -1.528659          4.7          1             2  0.095645   \n",
       "8      6     26  0.356122          2.6          2             1 -0.585499   \n",
       "9      8     23 -0.948726          3.1          3             1 -0.480955   \n",
       "\n",
       "   Doors  Owner_Count     Price  \n",
       "0      3            5 -0.113083  \n",
       "1      2            3  1.040674  \n",
       "2      4            2  0.744764  \n",
       "3      2            1  0.940431  \n",
       "4      3            3 -1.923238  \n",
       "5      4            4 -0.517589  \n",
       "6      3            1  0.756652  \n",
       "7      2            2 -0.290115  \n",
       "8      3            4  0.344757  \n",
       "9      2            5 -0.741529  "
      ]
     },
     "execution_count": 36,
     "metadata": {},
     "output_type": "execute_result"
    }
   ],
   "source": [
    "df.head(10)"
   ]
  },
  {
   "cell_type": "markdown",
   "metadata": {},
   "source": [
    "### 6. Model Testing"
   ]
  },
  {
   "cell_type": "code",
   "execution_count": 48,
   "metadata": {},
   "outputs": [],
   "source": [
    "new_data = pd.DataFrame({\n",
    "    'Brand': ['Toyota', 'Mercedes'],\n",
    "    'Model': ['Camry', 'GLA'],\n",
    "    'Year': [2019, 2017],\n",
    "    'Engine_Size': [2.8, 3.0],\n",
    "    'Fuel_Type': ['Diesel', 'Hybrid'],\n",
    "    'Transmission': ['Automatic', 'Automatic'],\n",
    "    'Mileage': [3000, 53000],\n",
    "    'Doors': [4, 4],\n",
    "    'Owner_Count': [1, 1]\n",
    "})"
   ]
  },
  {
   "cell_type": "code",
   "execution_count": 49,
   "metadata": {},
   "outputs": [],
   "source": [
    "new_data['Brand'] = le.fit_transform(new_data['Brand'])\n",
    "new_data['Model'] = le.fit_transform(new_data['Model'])\n",
    "new_data['Fuel_Type'] = le.fit_transform(new_data['Fuel_Type'])\n",
    "new_data['Transmission'] = le.fit_transform(new_data['Transmission'])\n",
    "new_data['Mileage'] = sc.fit_transform(new_data[['Mileage']])"
   ]
  },
  {
   "cell_type": "code",
   "execution_count": 50,
   "metadata": {},
   "outputs": [],
   "source": [
    "X_new = np.array(new_data)"
   ]
  },
  {
   "cell_type": "code",
   "execution_count": 51,
   "metadata": {},
   "outputs": [],
   "source": [
    "hasil = rf.predict(X_new)"
   ]
  },
  {
   "cell_type": "code",
   "execution_count": 54,
   "metadata": {},
   "outputs": [],
   "source": [
    "hasil = hasil.reshape(-1, 1)"
   ]
  },
  {
   "cell_type": "code",
   "execution_count": 55,
   "metadata": {},
   "outputs": [
    {
     "data": {
      "text/plain": [
       "array([[68333.33736409],\n",
       "       [50139.90115508]])"
      ]
     },
     "execution_count": 55,
     "metadata": {},
     "output_type": "execute_result"
    }
   ],
   "source": [
    "sc.inverse_transform(hasil)"
   ]
  }
 ],
 "metadata": {
  "kernelspec": {
   "display_name": "Python 3",
   "language": "python",
   "name": "python3"
  },
  "language_info": {
   "codemirror_mode": {
    "name": "ipython",
    "version": 3
   },
   "file_extension": ".py",
   "mimetype": "text/x-python",
   "name": "python",
   "nbconvert_exporter": "python",
   "pygments_lexer": "ipython3",
   "version": "3.13.2"
  }
 },
 "nbformat": 4,
 "nbformat_minor": 2
}
